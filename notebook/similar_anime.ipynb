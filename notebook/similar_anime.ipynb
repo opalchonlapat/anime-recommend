{
  "nbformat": 4,
  "nbformat_minor": 0,
  "metadata": {
    "colab": {
      "name": "similar_anime.ipynb",
      "provenance": [],
      "toc_visible": true
    },
    "kernelspec": {
      "name": "python3",
      "display_name": "Python 3"
    },
    "language_info": {
      "name": "python"
    },
    "widgets": {
      "application/vnd.jupyter.widget-state+json": {
        "0884a54db27140ee8fe77500c3bfbde5": {
          "model_module": "@jupyter-widgets/controls",
          "model_name": "VBoxModel",
          "state": {
            "_view_name": "VBoxView",
            "_dom_classes": [
              "widget-interact"
            ],
            "_model_name": "VBoxModel",
            "_view_module": "@jupyter-widgets/controls",
            "_model_module_version": "1.5.0",
            "_view_count": null,
            "_view_module_version": "1.5.0",
            "box_style": "",
            "layout": "IPY_MODEL_461ed15fb7674c53b962daa1657938c0",
            "_model_module": "@jupyter-widgets/controls",
            "children": [
              "IPY_MODEL_d1608e7d9c5e48bdbf92b371def75f76",
              "IPY_MODEL_6bb79764f9a24851af945ff3cb8a4564"
            ]
          }
        },
        "461ed15fb7674c53b962daa1657938c0": {
          "model_module": "@jupyter-widgets/base",
          "model_name": "LayoutModel",
          "state": {
            "_view_name": "LayoutView",
            "grid_template_rows": null,
            "right": null,
            "justify_content": null,
            "_view_module": "@jupyter-widgets/base",
            "overflow": null,
            "_model_module_version": "1.2.0",
            "_view_count": null,
            "flex_flow": null,
            "width": null,
            "min_width": null,
            "border": null,
            "align_items": null,
            "bottom": null,
            "_model_module": "@jupyter-widgets/base",
            "top": null,
            "grid_column": null,
            "overflow_y": null,
            "overflow_x": null,
            "grid_auto_flow": null,
            "grid_area": null,
            "grid_template_columns": null,
            "flex": null,
            "_model_name": "LayoutModel",
            "justify_items": null,
            "grid_row": null,
            "max_height": null,
            "align_content": null,
            "visibility": null,
            "align_self": null,
            "height": null,
            "min_height": null,
            "padding": null,
            "grid_auto_rows": null,
            "grid_gap": null,
            "max_width": null,
            "order": null,
            "_view_module_version": "1.2.0",
            "grid_template_areas": null,
            "object_position": null,
            "object_fit": null,
            "grid_auto_columns": null,
            "margin": null,
            "display": null,
            "left": null
          }
        },
        "d1608e7d9c5e48bdbf92b371def75f76": {
          "model_module": "@jupyter-widgets/controls",
          "model_name": "DropdownModel",
          "state": {
            "_options_labels": [
              "Fullmetal Alchemist: Brotherhood",
              "Steins;Gate",
              "Clannad: After Story",
              "Code Geass: Hangyaku no Lelouch R2",
              "Sen to Chihiro no Kamikakushi",
              "Code Geass: Hangyaku no Lelouch",
              "Cowboy Bebop",
              "One Punch Man",
              "Mononoke Hime",
              "Tengen Toppa Gurren Lagann",
              "Howl no Ugoku Shiro",
              "Fate/Zero 2nd Season",
              "Death Note",
              "Ano Hi Mita Hana no Namae wo Bokutachi wa Mada Shiranai.",
              "Kiseijuu: Sei no Kakuritsu",
              "Baccano!",
              "Shingeki no Kyojin",
              "Fate/Zero",
              "Mahou Shoujo Madoka★Magica",
              "Psycho-Pass",
              "Samurai Champloo",
              "Tonari no Totoro",
              "No Game No Life",
              "Toradora!",
              "Toki wo Kakeru Shoujo",
              "Sakurasou no Pet na Kanojo",
              "Angel Beats!",
              "Bakemonogatari",
              "Ouran Koukou Host Club",
              "Durarara!!",
              "Ookami to Koushinryou",
              "Fullmetal Alchemist",
              "Dragon Ball Z",
              "Neon Genesis Evangelion",
              "Clannad",
              "Kaichou wa Maid-sama!",
              "Darker than Black: Kuro no Keiyakusha",
              "Kill la Kill",
              "Fairy Tail",
              "Black Lagoon",
              "Higurashi no Naku Koro ni",
              "Noragami",
              "Dragon Ball",
              "Yahari Ore no Seishun Love Comedy wa Machigatteiru.",
              "Byousoku 5 Centimeter",
              "Soul Eater",
              "Mirai Nikki (TV)",
              "Tokyo Ghoul",
              "FLCL",
              "Kuroshitsuji",
              "Suzumiya Haruhi no Yuuutsu",
              "Hataraku Maou-sama!",
              "Bleach",
              "Chuunibyou demo Koi ga Shitai!",
              "Kami nomi zo Shiru Sekai",
              "Ao no Exorcist",
              "Claymore",
              "Another",
              "K-On!",
              "Lucky☆Star",
              "Elfen Lied",
              "Akame ga Kill!",
              "Baka to Test to Shoukanjuu",
              "Sword Art Online",
              "Full Metal Panic!",
              "Guilty Crown",
              "Naruto",
              "Tonari no Kaibutsu-kun",
              "Shakugan no Shana",
              "Zero no Tsukaima: Futatsuki no Kishi",
              "High School DxD",
              "Btooom!",
              "Kore wa Zombie Desu ka?",
              "Hellsing",
              "Zero no Tsukaima",
              "Fate/stay night",
              "Boku wa Tomodachi ga Sukunai",
              "Chobits",
              "Ore no Imouto ga Konnani Kawaii Wake ga Nai",
              "Deadman Wonderland",
              "Highschool of the Dead",
              "Vampire Knight",
              "Sword Art Online II",
              "Rosario to Vampire",
              "School Days"
            ],
            "_view_name": "DropdownView",
            "style": "IPY_MODEL_144f67c933964eefa24f8bda594a182c",
            "_dom_classes": [],
            "description": "anime_name",
            "_model_name": "DropdownModel",
            "index": 52,
            "_view_module": "@jupyter-widgets/controls",
            "_model_module_version": "1.5.0",
            "_view_count": null,
            "disabled": false,
            "_view_module_version": "1.5.0",
            "description_tooltip": null,
            "_model_module": "@jupyter-widgets/controls",
            "layout": "IPY_MODEL_d26f127d89024c48a4f5994b45ea95f5"
          }
        },
        "6bb79764f9a24851af945ff3cb8a4564": {
          "model_module": "@jupyter-widgets/output",
          "model_name": "OutputModel",
          "state": {
            "_view_name": "OutputView",
            "msg_id": "",
            "_dom_classes": [],
            "_model_name": "OutputModel",
            "outputs": [
              {
                "output_type": "stream",
                "metadata": {
                  "tags": []
                },
                "text": "Anime name: Bleach\n",
                "stream": "stdout"
              },
              {
                "output_type": "display_data",
                "metadata": {
                  "tags": []
                },
                "text/html": "<div>\n<style scoped>\n    .dataframe tbody tr th:only-of-type {\n        vertical-align: middle;\n    }\n\n    .dataframe tbody tr th {\n        vertical-align: top;\n    }\n\n    .dataframe thead th {\n        text-align: right;\n    }\n</style>\n<table border=\"1\" class=\"dataframe\">\n  <thead>\n    <tr style=\"text-align: right;\">\n      <th></th>\n      <th>anime_id</th>\n      <th>name</th>\n      <th>genre</th>\n      <th>type</th>\n      <th>episodes</th>\n      <th>rating</th>\n      <th>members</th>\n      <th>similar</th>\n    </tr>\n  </thead>\n  <tbody>\n    <tr>\n      <th>1274</th>\n      <td>2889</td>\n      <td>Bleach Movie 2: The DiamondDust Rebellion - Mou Hitotsu no Hyourinmaru</td>\n      <td>Action, Adventure, Shounen, Supernatural</td>\n      <td>Movie</td>\n      <td>1</td>\n      <td>7.60</td>\n      <td>134739</td>\n      <td>0.813521</td>\n    </tr>\n    <tr>\n      <th>841</th>\n      <td>20</td>\n      <td>Naruto</td>\n      <td>Action, Comedy, Martial Arts, Shounen, Super Power</td>\n      <td>TV</td>\n      <td>220</td>\n      <td>7.81</td>\n      <td>683297</td>\n      <td>0.812908</td>\n    </tr>\n    <tr>\n      <th>952</th>\n      <td>450</td>\n      <td>InuYasha: Kagami no Naka no Mugenjo</td>\n      <td>Adventure, Demons, Drama, Fantasy, Historical, Romance, Shounen, Supernatural</td>\n      <td>Movie</td>\n      <td>1</td>\n      <td>7.75</td>\n      <td>54854</td>\n      <td>0.809918</td>\n    </tr>\n    <tr>\n      <th>946</th>\n      <td>8247</td>\n      <td>Bleach Movie 4: Jigoku-hen</td>\n      <td>Action, Comedy, Shounen, Super Power, Supernatural</td>\n      <td>Movie</td>\n      <td>1</td>\n      <td>7.75</td>\n      <td>94074</td>\n      <td>0.806343</td>\n    </tr>\n    <tr>\n      <th>692</th>\n      <td>451</td>\n      <td>InuYasha: Tenka Hadou no Ken</td>\n      <td>Adventure, Comedy, Demons, Drama, Fantasy, Historical, Romance, Shounen, Supernatural</td>\n      <td>Movie</td>\n      <td>1</td>\n      <td>7.89</td>\n      <td>51079</td>\n      <td>0.794870</td>\n    </tr>\n    <tr>\n      <th>4210</th>\n      <td>23363</td>\n      <td>Ore no Imouto ga Konnani Kawaii Wake ga Nai.: Ore no Imouto ga Konnani Eroge na Wake Nai</td>\n      <td>Comedy, Romance</td>\n      <td>Special</td>\n      <td>1</td>\n      <td>6.78</td>\n      <td>3609</td>\n      <td>-0.582902</td>\n    </tr>\n    <tr>\n      <th>4956</th>\n      <td>920</td>\n      <td>Nurse Witch Komugi-chan Magikarte Special</td>\n      <td>Comedy, Magic, Parody</td>\n      <td>Special</td>\n      <td>1</td>\n      <td>6.59</td>\n      <td>3397</td>\n      <td>-0.584005</td>\n    </tr>\n    <tr>\n      <th>7650</th>\n      <td>10584</td>\n      <td>Mononoke Dance</td>\n      <td>Dementia, Music</td>\n      <td>Music</td>\n      <td>1</td>\n      <td>5.19</td>\n      <td>568</td>\n      <td>-0.589019</td>\n    </tr>\n    <tr>\n      <th>3663</th>\n      <td>1882</td>\n      <td>Sasami: Mahou Shoujo Club 2</td>\n      <td>Fantasy, Magic, School</td>\n      <td>TV</td>\n      <td>13</td>\n      <td>6.92</td>\n      <td>2277</td>\n      <td>-0.590512</td>\n    </tr>\n    <tr>\n      <th>5842</th>\n      <td>4213</td>\n      <td>Saishuu Shiken Kujira Progressive</td>\n      <td>Drama, Romance</td>\n      <td>OVA</td>\n      <td>1</td>\n      <td>6.34</td>\n      <td>1710</td>\n      <td>-0.747789</td>\n    </tr>\n  </tbody>\n</table>\n</div>",
                "text/plain": "      anime_id  ...   similar\n1274      2889  ...  0.813521\n841         20  ...  0.812908\n952        450  ...  0.809918\n946       8247  ...  0.806343\n692        451  ...  0.794870\n4210     23363  ... -0.582902\n4956       920  ... -0.584005\n7650     10584  ... -0.589019\n3663      1882  ... -0.590512\n5842      4213  ... -0.747789\n\n[10 rows x 8 columns]"
              }
            ],
            "_view_module": "@jupyter-widgets/output",
            "_model_module_version": "1.0.0",
            "_view_count": null,
            "_view_module_version": "1.0.0",
            "layout": "IPY_MODEL_31e944c4affa4d2fbd43517afc547742",
            "_model_module": "@jupyter-widgets/output"
          }
        },
        "144f67c933964eefa24f8bda594a182c": {
          "model_module": "@jupyter-widgets/controls",
          "model_name": "DescriptionStyleModel",
          "state": {
            "_view_name": "StyleView",
            "_model_name": "DescriptionStyleModel",
            "description_width": "",
            "_view_module": "@jupyter-widgets/base",
            "_model_module_version": "1.5.0",
            "_view_count": null,
            "_view_module_version": "1.2.0",
            "_model_module": "@jupyter-widgets/controls"
          }
        },
        "d26f127d89024c48a4f5994b45ea95f5": {
          "model_module": "@jupyter-widgets/base",
          "model_name": "LayoutModel",
          "state": {
            "_view_name": "LayoutView",
            "grid_template_rows": null,
            "right": null,
            "justify_content": null,
            "_view_module": "@jupyter-widgets/base",
            "overflow": null,
            "_model_module_version": "1.2.0",
            "_view_count": null,
            "flex_flow": null,
            "width": null,
            "min_width": null,
            "border": null,
            "align_items": null,
            "bottom": null,
            "_model_module": "@jupyter-widgets/base",
            "top": null,
            "grid_column": null,
            "overflow_y": null,
            "overflow_x": null,
            "grid_auto_flow": null,
            "grid_area": null,
            "grid_template_columns": null,
            "flex": null,
            "_model_name": "LayoutModel",
            "justify_items": null,
            "grid_row": null,
            "max_height": null,
            "align_content": null,
            "visibility": null,
            "align_self": null,
            "height": null,
            "min_height": null,
            "padding": null,
            "grid_auto_rows": null,
            "grid_gap": null,
            "max_width": null,
            "order": null,
            "_view_module_version": "1.2.0",
            "grid_template_areas": null,
            "object_position": null,
            "object_fit": null,
            "grid_auto_columns": null,
            "margin": null,
            "display": null,
            "left": null
          }
        },
        "31e944c4affa4d2fbd43517afc547742": {
          "model_module": "@jupyter-widgets/base",
          "model_name": "LayoutModel",
          "state": {
            "_view_name": "LayoutView",
            "grid_template_rows": null,
            "right": null,
            "justify_content": null,
            "_view_module": "@jupyter-widgets/base",
            "overflow": null,
            "_model_module_version": "1.2.0",
            "_view_count": null,
            "flex_flow": null,
            "width": null,
            "min_width": null,
            "border": null,
            "align_items": null,
            "bottom": null,
            "_model_module": "@jupyter-widgets/base",
            "top": null,
            "grid_column": null,
            "overflow_y": null,
            "overflow_x": null,
            "grid_auto_flow": null,
            "grid_area": null,
            "grid_template_columns": null,
            "flex": null,
            "_model_name": "LayoutModel",
            "justify_items": null,
            "grid_row": null,
            "max_height": null,
            "align_content": null,
            "visibility": null,
            "align_self": null,
            "height": null,
            "min_height": null,
            "padding": null,
            "grid_auto_rows": null,
            "grid_gap": null,
            "max_width": null,
            "order": null,
            "_view_module_version": "1.2.0",
            "grid_template_areas": null,
            "object_position": null,
            "object_fit": null,
            "grid_auto_columns": null,
            "margin": null,
            "display": null,
            "left": null
          }
        }
      }
    },
    "accelerator": "GPU"
  },
  "cells": [
    {
      "cell_type": "markdown",
      "metadata": {
        "id": "i8C_RN4MSLwd"
      },
      "source": [
        "# Find similar anime from embedding\n",
        "---"
      ]
    },
    {
      "cell_type": "code",
      "metadata": {
        "colab": {
          "base_uri": "https://localhost:8080/"
        },
        "id": "zGA7bqgvOnyP",
        "outputId": "edf103df-1174-439a-8d0f-0d47bb5c4db0"
      },
      "source": [
        "!pip install -q fastai==2.2.7"
      ],
      "execution_count": 1,
      "outputs": [
        {
          "output_type": "stream",
          "text": [
            "\u001b[K     |████████████████████████████████| 194kB 10.1MB/s \n",
            "\u001b[K     |████████████████████████████████| 776.8MB 23kB/s \n",
            "\u001b[K     |████████████████████████████████| 12.8MB 261kB/s \n",
            "\u001b[K     |████████████████████████████████| 61kB 8.0MB/s \n",
            "\u001b[31mERROR: torchtext 0.9.1 has requirement torch==1.8.1, but you'll have torch 1.7.1 which is incompatible.\u001b[0m\n",
            "\u001b[?25h"
          ],
          "name": "stdout"
        }
      ]
    },
    {
      "cell_type": "code",
      "metadata": {
        "id": "OxXpS0yOOxZn",
        "colab": {
          "base_uri": "https://localhost:8080/"
        },
        "outputId": "a55b4238-4cdb-4c92-e125-695e53db08ce"
      },
      "source": [
        "!wget https://github.com/opalchonlapat/anime-recommend/raw/master/anime.zip # Download dataset\n",
        "!unzip anime.zip -d anime-recommedations-datbase\n",
        "!wget https://github.com/opalchonlapat/anime-recommend/raw/master/notebook/models/model.pth # Download model"
      ],
      "execution_count": 2,
      "outputs": [
        {
          "output_type": "stream",
          "text": [
            "--2021-05-27 17:22:53--  https://github.com/opalchonlapat/anime-recommend/raw/master/anime.zip\n",
            "Resolving github.com (github.com)... 192.30.255.113\n",
            "Connecting to github.com (github.com)|192.30.255.113|:443... connected.\n",
            "HTTP request sent, awaiting response... 302 Found\n",
            "Location: https://raw.githubusercontent.com/opalchonlapat/anime-recommend/master/anime.zip [following]\n",
            "--2021-05-27 17:22:53--  https://raw.githubusercontent.com/opalchonlapat/anime-recommend/master/anime.zip\n",
            "Resolving raw.githubusercontent.com (raw.githubusercontent.com)... 185.199.110.133, 185.199.108.133, 185.199.111.133, ...\n",
            "Connecting to raw.githubusercontent.com (raw.githubusercontent.com)|185.199.110.133|:443... connected.\n",
            "HTTP request sent, awaiting response... 200 OK\n",
            "Length: 26259955 (25M) [application/zip]\n",
            "Saving to: ‘anime.zip’\n",
            "\n",
            "anime.zip           100%[===================>]  25.04M  87.5MB/s    in 0.3s    \n",
            "\n",
            "2021-05-27 17:22:55 (87.5 MB/s) - ‘anime.zip’ saved [26259955/26259955]\n",
            "\n",
            "Archive:  anime.zip\n",
            "  inflating: anime-recommedations-datbase/anime.csv  \n",
            "  inflating: anime-recommedations-datbase/rating.csv  \n",
            "--2021-05-27 17:22:56--  https://github.com/opalchonlapat/anime-recommend/raw/master/notebook/models/model.pth\n",
            "Resolving github.com (github.com)... 192.30.255.112\n",
            "Connecting to github.com (github.com)|192.30.255.112|:443... connected.\n",
            "HTTP request sent, awaiting response... 302 Found\n",
            "Location: https://raw.githubusercontent.com/opalchonlapat/anime-recommend/master/notebook/models/model.pth [following]\n",
            "--2021-05-27 17:22:56--  https://raw.githubusercontent.com/opalchonlapat/anime-recommend/master/notebook/models/model.pth\n",
            "Resolving raw.githubusercontent.com (raw.githubusercontent.com)... 185.199.110.133, 185.199.108.133, 185.199.111.133, ...\n",
            "Connecting to raw.githubusercontent.com (raw.githubusercontent.com)|185.199.110.133|:443... connected.\n",
            "HTTP request sent, awaiting response... 200 OK\n",
            "Length: 12430390 (12M) [application/octet-stream]\n",
            "Saving to: ‘model.pth’\n",
            "\n",
            "model.pth           100%[===================>]  11.85M  51.5MB/s    in 0.2s    \n",
            "\n",
            "2021-05-27 17:22:57 (51.5 MB/s) - ‘model.pth’ saved [12430390/12430390]\n",
            "\n"
          ],
          "name": "stdout"
        }
      ]
    },
    {
      "cell_type": "code",
      "metadata": {
        "id": "CqS-RaUQP_d9"
      },
      "source": [
        "from fastai.collab import *\n",
        "from fastai.tabular.all import *\n",
        "from fastai import *\n",
        "from ipywidgets import interact, interactive, fixed\n",
        "\n",
        "import numpy as np\n",
        "import pandas as pd\n",
        "import torch\n",
        "import ipywidgets as widgets"
      ],
      "execution_count": 3,
      "outputs": []
    },
    {
      "cell_type": "code",
      "metadata": {
        "colab": {
          "base_uri": "https://localhost:8080/",
          "height": 419
        },
        "id": "kL-s5Z67QGhT",
        "outputId": "d763291d-0154-4f10-957b-2006c0b6180b"
      },
      "source": [
        "rating_df = pd.read_csv(\"anime-recommedations-datbase/rating.csv\")\n",
        "anime_df = pd.read_csv(\"anime-recommedations-datbase/anime.csv\")\n",
        "\n",
        "rating_df = rating_df[rating_df.rating >= 0].reset_index(drop=True) # filter unrating anime\n",
        "\n",
        "# filter anime rated user >= 15\n",
        "user_grouped = rating_df.groupby(['anime_id'])['user_id'].count().reset_index(name='num_user')\n",
        "anime_id_min = user_grouped.loc[user_grouped['num_user'] >= 15, 'anime_id'].values\n",
        "rating_df_min = rating_df[rating_df['anime_id'].isin(anime_id_min)]\n",
        "\n",
        "# filter user rated anime >= 10\n",
        "user_grouped = rating_df_min.groupby(['user_id'])['anime_id'].count().reset_index(name='num_rate_anime')\n",
        "user_id_min = user_grouped.loc[user_grouped['num_rate_anime'] >= 10, 'user_id'].values\n",
        "rating_df_min = rating_df_min[rating_df_min['user_id'].isin(user_id_min)] \n",
        "\n",
        "rating_df_min"
      ],
      "execution_count": 4,
      "outputs": [
        {
          "output_type": "execute_result",
          "data": {
            "text/html": [
              "<div>\n",
              "<style scoped>\n",
              "    .dataframe tbody tr th:only-of-type {\n",
              "        vertical-align: middle;\n",
              "    }\n",
              "\n",
              "    .dataframe tbody tr th {\n",
              "        vertical-align: top;\n",
              "    }\n",
              "\n",
              "    .dataframe thead th {\n",
              "        text-align: right;\n",
              "    }\n",
              "</style>\n",
              "<table border=\"1\" class=\"dataframe\">\n",
              "  <thead>\n",
              "    <tr style=\"text-align: right;\">\n",
              "      <th></th>\n",
              "      <th>user_id</th>\n",
              "      <th>anime_id</th>\n",
              "      <th>rating</th>\n",
              "    </tr>\n",
              "  </thead>\n",
              "  <tbody>\n",
              "    <tr>\n",
              "      <th>5</th>\n",
              "      <td>3</td>\n",
              "      <td>20</td>\n",
              "      <td>8</td>\n",
              "    </tr>\n",
              "    <tr>\n",
              "      <th>6</th>\n",
              "      <td>3</td>\n",
              "      <td>154</td>\n",
              "      <td>6</td>\n",
              "    </tr>\n",
              "    <tr>\n",
              "      <th>7</th>\n",
              "      <td>3</td>\n",
              "      <td>170</td>\n",
              "      <td>9</td>\n",
              "    </tr>\n",
              "    <tr>\n",
              "      <th>8</th>\n",
              "      <td>3</td>\n",
              "      <td>199</td>\n",
              "      <td>10</td>\n",
              "    </tr>\n",
              "    <tr>\n",
              "      <th>9</th>\n",
              "      <td>3</td>\n",
              "      <td>225</td>\n",
              "      <td>9</td>\n",
              "    </tr>\n",
              "    <tr>\n",
              "      <th>...</th>\n",
              "      <td>...</td>\n",
              "      <td>...</td>\n",
              "      <td>...</td>\n",
              "    </tr>\n",
              "    <tr>\n",
              "      <th>6337234</th>\n",
              "      <td>73515</td>\n",
              "      <td>13659</td>\n",
              "      <td>8</td>\n",
              "    </tr>\n",
              "    <tr>\n",
              "      <th>6337235</th>\n",
              "      <td>73515</td>\n",
              "      <td>14345</td>\n",
              "      <td>7</td>\n",
              "    </tr>\n",
              "    <tr>\n",
              "      <th>6337236</th>\n",
              "      <td>73515</td>\n",
              "      <td>16512</td>\n",
              "      <td>7</td>\n",
              "    </tr>\n",
              "    <tr>\n",
              "      <th>6337237</th>\n",
              "      <td>73515</td>\n",
              "      <td>17187</td>\n",
              "      <td>9</td>\n",
              "    </tr>\n",
              "    <tr>\n",
              "      <th>6337238</th>\n",
              "      <td>73515</td>\n",
              "      <td>22145</td>\n",
              "      <td>10</td>\n",
              "    </tr>\n",
              "  </tbody>\n",
              "</table>\n",
              "<p>6264567 rows × 3 columns</p>\n",
              "</div>"
            ],
            "text/plain": [
              "         user_id  anime_id  rating\n",
              "5              3        20       8\n",
              "6              3       154       6\n",
              "7              3       170       9\n",
              "8              3       199      10\n",
              "9              3       225       9\n",
              "...          ...       ...     ...\n",
              "6337234    73515     13659       8\n",
              "6337235    73515     14345       7\n",
              "6337236    73515     16512       7\n",
              "6337237    73515     17187       9\n",
              "6337238    73515     22145      10\n",
              "\n",
              "[6264567 rows x 3 columns]"
            ]
          },
          "metadata": {
            "tags": []
          },
          "execution_count": 4
        }
      ]
    },
    {
      "cell_type": "code",
      "metadata": {
        "id": "X0F1DG4iQxU6"
      },
      "source": [
        "rating_grouped_df = rating_df_min.groupby(['user_id'])\n",
        "valid_df = rating_grouped_df.apply(lambda x: x.sample(frac=.2, random_state=1))\n",
        "valid_df.index = valid_df.index.droplevel(level=0)\n",
        "train_df = rating_df_min[~rating_df_min.index.isin(valid_df.index)]\n",
        "\n",
        "valid_df = valid_df.reset_index(drop=True)\n",
        "valid_grouped_df = valid_df.groupby(['user_id'])\n",
        "test_df = valid_grouped_df.apply(lambda x: x.sample(frac=.5, random_state=1))\n",
        "test_df.index = test_df.index.droplevel(level=0)\n",
        "valid_df = valid_df[~valid_df.index.isin(test_df.index)]"
      ],
      "execution_count": 5,
      "outputs": []
    },
    {
      "cell_type": "code",
      "metadata": {
        "colab": {
          "base_uri": "https://localhost:8080/",
          "height": 419
        },
        "id": "Oro3mh8nRezG",
        "outputId": "c8486da9-5ca3-497d-b692-514c57c49db1"
      },
      "source": [
        "n_users, n_animes, n_ratings = list(train_df.nunique())\n",
        "\n",
        "train_df = train_df.copy()\n",
        "train_df['is_valid'] = 0\n",
        "\n",
        "valid_df = valid_df.copy()\n",
        "valid_df['is_valid'] = 1\n",
        "\n",
        "train_valid_df = pd.concat([train_df, valid_df], axis=0)\n",
        "train_valid_df"
      ],
      "execution_count": 6,
      "outputs": [
        {
          "output_type": "execute_result",
          "data": {
            "text/html": [
              "<div>\n",
              "<style scoped>\n",
              "    .dataframe tbody tr th:only-of-type {\n",
              "        vertical-align: middle;\n",
              "    }\n",
              "\n",
              "    .dataframe tbody tr th {\n",
              "        vertical-align: top;\n",
              "    }\n",
              "\n",
              "    .dataframe thead th {\n",
              "        text-align: right;\n",
              "    }\n",
              "</style>\n",
              "<table border=\"1\" class=\"dataframe\">\n",
              "  <thead>\n",
              "    <tr style=\"text-align: right;\">\n",
              "      <th></th>\n",
              "      <th>user_id</th>\n",
              "      <th>anime_id</th>\n",
              "      <th>rating</th>\n",
              "      <th>is_valid</th>\n",
              "    </tr>\n",
              "  </thead>\n",
              "  <tbody>\n",
              "    <tr>\n",
              "      <th>5</th>\n",
              "      <td>3</td>\n",
              "      <td>20</td>\n",
              "      <td>8</td>\n",
              "      <td>0</td>\n",
              "    </tr>\n",
              "    <tr>\n",
              "      <th>6</th>\n",
              "      <td>3</td>\n",
              "      <td>154</td>\n",
              "      <td>6</td>\n",
              "      <td>0</td>\n",
              "    </tr>\n",
              "    <tr>\n",
              "      <th>8</th>\n",
              "      <td>3</td>\n",
              "      <td>199</td>\n",
              "      <td>10</td>\n",
              "      <td>0</td>\n",
              "    </tr>\n",
              "    <tr>\n",
              "      <th>9</th>\n",
              "      <td>3</td>\n",
              "      <td>225</td>\n",
              "      <td>9</td>\n",
              "      <td>0</td>\n",
              "    </tr>\n",
              "    <tr>\n",
              "      <th>10</th>\n",
              "      <td>3</td>\n",
              "      <td>341</td>\n",
              "      <td>6</td>\n",
              "      <td>0</td>\n",
              "    </tr>\n",
              "    <tr>\n",
              "      <th>...</th>\n",
              "      <td>...</td>\n",
              "      <td>...</td>\n",
              "      <td>...</td>\n",
              "      <td>...</td>\n",
              "    </tr>\n",
              "    <tr>\n",
              "      <th>1252613</th>\n",
              "      <td>73515</td>\n",
              "      <td>2889</td>\n",
              "      <td>8</td>\n",
              "      <td>1</td>\n",
              "    </tr>\n",
              "    <tr>\n",
              "      <th>1252615</th>\n",
              "      <td>73515</td>\n",
              "      <td>935</td>\n",
              "      <td>9</td>\n",
              "      <td>1</td>\n",
              "    </tr>\n",
              "    <tr>\n",
              "      <th>1252624</th>\n",
              "      <td>73515</td>\n",
              "      <td>3653</td>\n",
              "      <td>8</td>\n",
              "      <td>1</td>\n",
              "    </tr>\n",
              "    <tr>\n",
              "      <th>1252625</th>\n",
              "      <td>73515</td>\n",
              "      <td>1361</td>\n",
              "      <td>6</td>\n",
              "      <td>1</td>\n",
              "    </tr>\n",
              "    <tr>\n",
              "      <th>1252628</th>\n",
              "      <td>73515</td>\n",
              "      <td>3784</td>\n",
              "      <td>9</td>\n",
              "      <td>1</td>\n",
              "    </tr>\n",
              "  </tbody>\n",
              "</table>\n",
              "<p>5637053 rows × 4 columns</p>\n",
              "</div>"
            ],
            "text/plain": [
              "         user_id  anime_id  rating  is_valid\n",
              "5              3        20       8         0\n",
              "6              3       154       6         0\n",
              "8              3       199      10         0\n",
              "9              3       225       9         0\n",
              "10             3       341       6         0\n",
              "...          ...       ...     ...       ...\n",
              "1252613    73515      2889       8         1\n",
              "1252615    73515       935       9         1\n",
              "1252624    73515      3653       8         1\n",
              "1252625    73515      1361       6         1\n",
              "1252628    73515      3784       9         1\n",
              "\n",
              "[5637053 rows x 4 columns]"
            ]
          },
          "metadata": {
            "tags": []
          },
          "execution_count": 6
        }
      ]
    },
    {
      "cell_type": "code",
      "metadata": {
        "id": "x07adfafRqyW"
      },
      "source": [
        "user_name   = 'user_id'\n",
        "item_name   = 'anime_id'\n",
        "rating_name = 'rating'\n",
        "cat_names = [user_name,item_name]\n",
        "splits = ColSplitter(col='is_valid')(train_valid_df)\n",
        "to = TabularCollab(train_valid_df, [Categorify], cat_names, y_names=[rating_name], y_block=TransformBlock(), splits=splits)\n",
        "dls = to.dataloaders(bs=256)"
      ],
      "execution_count": 7,
      "outputs": []
    },
    {
      "cell_type": "code",
      "metadata": {
        "colab": {
          "base_uri": "https://localhost:8080/"
        },
        "id": "ZmShOpx_RxQh",
        "outputId": "efd2d07c-26f6-4120-9bd6-37db1228ce37"
      },
      "source": [
        "emb_szs = {'user_id': 50, 'anime_id': 50}\n",
        "szs = get_emb_sz(dls.train_ds, emb_szs)\n",
        "print(f\"Embedding size (user, item): {szs}, {emb_szs}\")\n",
        "learn = collab_learner(dls, # Dataloader ที่จะนำมา train model\n",
        "                       y_range=(0.5, 10.5), # Range ของค่าคะแนน rating\n",
        "                       use_nn=True, # ใช้ Neural Network\n",
        "                       emb_szs=emb_szs, # กำหนดขนาดของ Embedding\n",
        "                       metrics=[mse, # Metrics ที่ใช้วัดผล\n",
        "                                mae]).to_fp16()"
      ],
      "execution_count": 8,
      "outputs": [
        {
          "output_type": "stream",
          "text": [
            "Embedding size (user, item): [(55114, 50), (6904, 50)], {'user_id': 50, 'anime_id': 50}\n"
          ],
          "name": "stdout"
        }
      ]
    },
    {
      "cell_type": "code",
      "metadata": {
        "colab": {
          "base_uri": "https://localhost:8080/"
        },
        "id": "kaigNeTAR16a",
        "outputId": "fa06ed17-217c-446e-ba0c-b90bc3d808db"
      },
      "source": [
        "# load model\n",
        "learn.load('/content/model')"
      ],
      "execution_count": 9,
      "outputs": [
        {
          "output_type": "stream",
          "text": [
            "/usr/local/lib/python3.7/dist-packages/fastai/learner.py:56: UserWarning: Saved filed doesn't contain an optimizer state.\n",
            "  elif with_opt: warn(\"Saved filed doesn't contain an optimizer state.\")\n"
          ],
          "name": "stderr"
        },
        {
          "output_type": "execute_result",
          "data": {
            "text/plain": [
              "<fastai.learner.Learner at 0x7f151c142d10>"
            ]
          },
          "metadata": {
            "tags": []
          },
          "execution_count": 9
        }
      ]
    },
    {
      "cell_type": "code",
      "metadata": {
        "colab": {
          "base_uri": "https://localhost:8080/"
        },
        "id": "pxI1DsMER424",
        "outputId": "1754f5d9-e3fe-4600-baf0-e2b3f98020b2"
      },
      "source": [
        "learn.model"
      ],
      "execution_count": 10,
      "outputs": [
        {
          "output_type": "execute_result",
          "data": {
            "text/plain": [
              "EmbeddingNN(\n",
              "  (embeds): ModuleList(\n",
              "    (0): Embedding(55114, 50)\n",
              "    (1): Embedding(6904, 50)\n",
              "  )\n",
              "  (emb_drop): Dropout(p=0.0, inplace=False)\n",
              "  (bn_cont): BatchNorm1d(0, eps=1e-05, momentum=0.1, affine=True, track_running_stats=True)\n",
              "  (layers): Sequential(\n",
              "    (0): LinBnDrop(\n",
              "      (0): BatchNorm1d(100, eps=1e-05, momentum=0.1, affine=True, track_running_stats=True)\n",
              "      (1): Linear(in_features=100, out_features=50, bias=False)\n",
              "      (2): ReLU(inplace=True)\n",
              "    )\n",
              "    (1): LinBnDrop(\n",
              "      (0): Linear(in_features=50, out_features=1, bias=True)\n",
              "    )\n",
              "    (2): SigmoidRange(low=0.5, high=10.5)\n",
              "  )\n",
              ")"
            ]
          },
          "metadata": {
            "tags": []
          },
          "execution_count": 10
        }
      ]
    },
    {
      "cell_type": "code",
      "metadata": {
        "id": "18zIEbB3R7OW"
      },
      "source": [
        "user_embeds = learn.model.embeds[0].weight\n",
        "item_embeds = learn.model.embeds[1].weight\n",
        "user_ids = learn.dls.train_ds.classes['user_id']\n",
        "item_ids = learn.dls.train_ds.classes['anime_id']"
      ],
      "execution_count": 11,
      "outputs": []
    },
    {
      "cell_type": "code",
      "metadata": {
        "id": "MWMkwlXaR_aw"
      },
      "source": [
        "def find_similar_anime(anime_name):\n",
        "    print(f\"Anime name: {anime_name}\")\n",
        "    ani_id = anime_df.loc[anime_df['name'] == anime_name].iat[0, 0]\n",
        "    arr_idx = item_ids.o2i[ani_id]\n",
        "    similar = nn.CosineSimilarity(dim=1)(item_embeds, item_embeds[arr_idx][None])\n",
        "    sim_arr_idx = similar.argsort(descending=True)\n",
        "    most_sim_idx = sim_arr_idx[1:6]\n",
        "    least_sim_idx = sim_arr_idx[-5:]\n",
        "    sim_ani_id = np.concatenate((item_ids[most_sim_idx], item_ids[least_sim_idx]))\n",
        "\n",
        "    sim_df = pd.DataFrame()\n",
        "    for id in sim_ani_id:\n",
        "        sim_df = sim_df.append(anime_df[anime_df['anime_id'] == id])\n",
        "    sim_df['similar'] = np.concatenate((similar[most_sim_idx].cpu().detach().numpy(), similar[least_sim_idx].cpu().detach().numpy()))\n",
        "    return sim_df"
      ],
      "execution_count": 12,
      "outputs": []
    },
    {
      "cell_type": "code",
      "metadata": {
        "id": "NN5kv1vDSBJI"
      },
      "source": [
        "anime_cnt = rating_df.groupby(['anime_id'])['user_id'].count().reset_index(name='cnt')\n",
        "anime_id_cnt = anime_cnt.sort_values(['cnt'], ascending=False).loc[:50, 'anime_id'].values"
      ],
      "execution_count": 13,
      "outputs": []
    },
    {
      "cell_type": "code",
      "metadata": {
        "colab": {
          "base_uri": "https://localhost:8080/",
          "height": 595,
          "referenced_widgets": [
            "0884a54db27140ee8fe77500c3bfbde5",
            "461ed15fb7674c53b962daa1657938c0",
            "d1608e7d9c5e48bdbf92b371def75f76",
            "6bb79764f9a24851af945ff3cb8a4564",
            "144f67c933964eefa24f8bda594a182c",
            "d26f127d89024c48a4f5994b45ea95f5",
            "31e944c4affa4d2fbd43517afc547742"
          ]
        },
        "id": "8BOoNQn-SC2Q",
        "outputId": "ed5378db-5523-4b6c-f10f-9e5d2cad3140"
      },
      "source": [
        "names_arr = anime_df.loc[anime_df['anime_id'].isin(anime_id_cnt), 'name'].unique()\n",
        "interact(find_similar_anime, anime_name=names_arr)"
      ],
      "execution_count": 14,
      "outputs": [
        {
          "output_type": "display_data",
          "data": {
            "application/vnd.jupyter.widget-view+json": {
              "model_id": "0884a54db27140ee8fe77500c3bfbde5",
              "version_minor": 0,
              "version_major": 2
            },
            "text/plain": [
              "interactive(children=(Dropdown(description='anime_name', options=('Fullmetal Alchemist: Brotherhood', 'Steins;…"
            ]
          },
          "metadata": {
            "tags": []
          }
        },
        {
          "output_type": "execute_result",
          "data": {
            "text/plain": [
              "<function __main__.find_similar_anime>"
            ]
          },
          "metadata": {
            "tags": []
          },
          "execution_count": 14
        }
      ]
    },
    {
      "cell_type": "code",
      "metadata": {
        "id": "bBHzlTi6SEpH"
      },
      "source": [
        ""
      ],
      "execution_count": null,
      "outputs": []
    }
  ]
}