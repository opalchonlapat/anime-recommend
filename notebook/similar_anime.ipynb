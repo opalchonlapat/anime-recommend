{
  "nbformat": 4,
  "nbformat_minor": 0,
  "metadata": {
    "colab": {
      "name": "similar_anime.ipynb",
      "provenance": []
    },
    "kernelspec": {
      "name": "python3",
      "display_name": "Python 3"
    },
    "language_info": {
      "name": "python"
    },
    "widgets": {
      "application/vnd.jupyter.widget-state+json": {
        "9b5ca06452f743adade846f88a92d73b": {
          "model_module": "@jupyter-widgets/controls",
          "model_name": "VBoxModel",
          "state": {
            "_view_name": "VBoxView",
            "_dom_classes": [
              "widget-interact"
            ],
            "_model_name": "VBoxModel",
            "_view_module": "@jupyter-widgets/controls",
            "_model_module_version": "1.5.0",
            "_view_count": null,
            "_view_module_version": "1.5.0",
            "box_style": "",
            "layout": "IPY_MODEL_8fe1834e2b1b4278afcee91d93eb5ae2",
            "_model_module": "@jupyter-widgets/controls",
            "children": [
              "IPY_MODEL_b4b7ee22173a4ed9a085e6f72b617092",
              "IPY_MODEL_be83ec4885a347c29b56934d4733fa7f"
            ]
          }
        },
        "8fe1834e2b1b4278afcee91d93eb5ae2": {
          "model_module": "@jupyter-widgets/base",
          "model_name": "LayoutModel",
          "state": {
            "_view_name": "LayoutView",
            "grid_template_rows": null,
            "right": null,
            "justify_content": null,
            "_view_module": "@jupyter-widgets/base",
            "overflow": null,
            "_model_module_version": "1.2.0",
            "_view_count": null,
            "flex_flow": null,
            "width": null,
            "min_width": null,
            "border": null,
            "align_items": null,
            "bottom": null,
            "_model_module": "@jupyter-widgets/base",
            "top": null,
            "grid_column": null,
            "overflow_y": null,
            "overflow_x": null,
            "grid_auto_flow": null,
            "grid_area": null,
            "grid_template_columns": null,
            "flex": null,
            "_model_name": "LayoutModel",
            "justify_items": null,
            "grid_row": null,
            "max_height": null,
            "align_content": null,
            "visibility": null,
            "align_self": null,
            "height": null,
            "min_height": null,
            "padding": null,
            "grid_auto_rows": null,
            "grid_gap": null,
            "max_width": null,
            "order": null,
            "_view_module_version": "1.2.0",
            "grid_template_areas": null,
            "object_position": null,
            "object_fit": null,
            "grid_auto_columns": null,
            "margin": null,
            "display": null,
            "left": null
          }
        },
        "b4b7ee22173a4ed9a085e6f72b617092": {
          "model_module": "@jupyter-widgets/controls",
          "model_name": "DropdownModel",
          "state": {
            "_options_labels": [
              "Fullmetal Alchemist: Brotherhood",
              "Steins;Gate",
              "Clannad: After Story",
              "Code Geass: Hangyaku no Lelouch R2",
              "Sen to Chihiro no Kamikakushi",
              "Code Geass: Hangyaku no Lelouch",
              "Cowboy Bebop",
              "One Punch Man",
              "Mononoke Hime",
              "Tengen Toppa Gurren Lagann",
              "Howl no Ugoku Shiro",
              "Fate/Zero 2nd Season",
              "Death Note",
              "Ano Hi Mita Hana no Namae wo Bokutachi wa Mada Shiranai.",
              "Kiseijuu: Sei no Kakuritsu",
              "Baccano!",
              "Shingeki no Kyojin",
              "Fate/Zero",
              "Mahou Shoujo Madoka★Magica",
              "Psycho-Pass",
              "Samurai Champloo",
              "Tonari no Totoro",
              "No Game No Life",
              "Toradora!",
              "Toki wo Kakeru Shoujo",
              "Sakurasou no Pet na Kanojo",
              "Angel Beats!",
              "Bakemonogatari",
              "Ouran Koukou Host Club",
              "Durarara!!",
              "Ookami to Koushinryou",
              "Fullmetal Alchemist",
              "Dragon Ball Z",
              "Neon Genesis Evangelion",
              "Clannad",
              "Kaichou wa Maid-sama!",
              "Darker than Black: Kuro no Keiyakusha",
              "Kill la Kill",
              "Fairy Tail",
              "Black Lagoon",
              "Higurashi no Naku Koro ni",
              "Noragami",
              "Dragon Ball",
              "Yahari Ore no Seishun Love Comedy wa Machigatteiru.",
              "Byousoku 5 Centimeter",
              "Soul Eater",
              "Mirai Nikki (TV)",
              "Tokyo Ghoul",
              "FLCL",
              "Kuroshitsuji",
              "Suzumiya Haruhi no Yuuutsu",
              "Hataraku Maou-sama!",
              "Bleach",
              "Chuunibyou demo Koi ga Shitai!",
              "Kami nomi zo Shiru Sekai",
              "Ao no Exorcist",
              "Claymore",
              "Another",
              "K-On!",
              "Lucky☆Star",
              "Elfen Lied",
              "Akame ga Kill!",
              "Baka to Test to Shoukanjuu",
              "Sword Art Online",
              "Full Metal Panic!",
              "Guilty Crown",
              "Naruto",
              "Tonari no Kaibutsu-kun",
              "Shakugan no Shana",
              "Zero no Tsukaima: Futatsuki no Kishi",
              "High School DxD",
              "Btooom!",
              "Kore wa Zombie Desu ka?",
              "Hellsing",
              "Zero no Tsukaima",
              "Fate/stay night",
              "Boku wa Tomodachi ga Sukunai",
              "Chobits",
              "Ore no Imouto ga Konnani Kawaii Wake ga Nai",
              "Deadman Wonderland",
              "Highschool of the Dead",
              "Vampire Knight",
              "Sword Art Online II",
              "Rosario to Vampire",
              "School Days"
            ],
            "_view_name": "DropdownView",
            "style": "IPY_MODEL_5472c7e93f3749a5ad46f54b3ea8f628",
            "_dom_classes": [],
            "description": "anime_name",
            "_model_name": "DropdownModel",
            "index": 0,
            "_view_module": "@jupyter-widgets/controls",
            "_model_module_version": "1.5.0",
            "_view_count": null,
            "disabled": false,
            "_view_module_version": "1.5.0",
            "description_tooltip": null,
            "_model_module": "@jupyter-widgets/controls",
            "layout": "IPY_MODEL_6cb4477b74f9417092afb455a9109b2c"
          }
        },
        "be83ec4885a347c29b56934d4733fa7f": {
          "model_module": "@jupyter-widgets/output",
          "model_name": "OutputModel",
          "state": {
            "_view_name": "OutputView",
            "msg_id": "",
            "_dom_classes": [],
            "_model_name": "OutputModel",
            "outputs": [
              {
                "output_type": "stream",
                "metadata": {
                  "tags": []
                },
                "text": "Anime name: Fullmetal Alchemist: Brotherhood\n",
                "stream": "stdout"
              },
              {
                "output_type": "display_data",
                "metadata": {
                  "tags": []
                },
                "text/html": "<div>\n<style scoped>\n    .dataframe tbody tr th:only-of-type {\n        vertical-align: middle;\n    }\n\n    .dataframe tbody tr th {\n        vertical-align: top;\n    }\n\n    .dataframe thead th {\n        text-align: right;\n    }\n</style>\n<table border=\"1\" class=\"dataframe\">\n  <thead>\n    <tr style=\"text-align: right;\">\n      <th></th>\n      <th>anime_id</th>\n      <th>name</th>\n      <th>genre</th>\n      <th>type</th>\n      <th>episodes</th>\n      <th>rating</th>\n      <th>members</th>\n      <th>similar</th>\n    </tr>\n  </thead>\n  <tbody>\n    <tr>\n      <th>6</th>\n      <td>11061</td>\n      <td>Hunter x Hunter (2011)</td>\n      <td>Action, Adventure, Shounen, Super Power</td>\n      <td>TV</td>\n      <td>148</td>\n      <td>9.13</td>\n      <td>425855</td>\n      <td>0.976313</td>\n    </tr>\n    <tr>\n      <th>2</th>\n      <td>28977</td>\n      <td>Gintama°</td>\n      <td>Action, Comedy, Historical, Parody, Samurai, Sci-Fi, Shounen</td>\n      <td>TV</td>\n      <td>51</td>\n      <td>9.25</td>\n      <td>114262</td>\n      <td>0.972476</td>\n    </tr>\n    <tr>\n      <th>9</th>\n      <td>15417</td>\n      <td>Gintama&amp;#039;: Enchousen</td>\n      <td>Action, Comedy, Historical, Parody, Samurai, Sci-Fi, Shounen</td>\n      <td>TV</td>\n      <td>13</td>\n      <td>9.11</td>\n      <td>81109</td>\n      <td>0.925962</td>\n    </tr>\n    <tr>\n      <th>83</th>\n      <td>877</td>\n      <td>Nana</td>\n      <td>Comedy, Drama, Music, Romance, Shoujo, Slice of Life</td>\n      <td>TV</td>\n      <td>47</td>\n      <td>8.55</td>\n      <td>197256</td>\n      <td>0.920726</td>\n    </tr>\n    <tr>\n      <th>5</th>\n      <td>32935</td>\n      <td>Haikyuu!!: Karasuno Koukou VS Shiratorizawa Gakuen Koukou</td>\n      <td>Comedy, Drama, School, Shounen, Sports</td>\n      <td>TV</td>\n      <td>10</td>\n      <td>9.15</td>\n      <td>93351</td>\n      <td>0.918261</td>\n    </tr>\n    <tr>\n      <th>9993</th>\n      <td>29898</td>\n      <td>Plus 50000-nen</td>\n      <td>Sci-Fi</td>\n      <td>Movie</td>\n      <td>1</td>\n      <td>5.08</td>\n      <td>72</td>\n      <td>-0.588375</td>\n    </tr>\n    <tr>\n      <th>6798</th>\n      <td>3025</td>\n      <td>Dragon Slayer Eiyuu Densetsu: Ouji no Tabidachi</td>\n      <td>Action, Fantasy, Magic</td>\n      <td>OVA</td>\n      <td>2</td>\n      <td>5.92</td>\n      <td>641</td>\n      <td>-0.593775</td>\n    </tr>\n    <tr>\n      <th>3125</th>\n      <td>31105</td>\n      <td>Buddy Complex: Daremo Shiranai Ashita e</td>\n      <td>Action, Mecha, Sci-Fi</td>\n      <td>ONA</td>\n      <td>1</td>\n      <td>7.07</td>\n      <td>987</td>\n      <td>-0.602406</td>\n    </tr>\n    <tr>\n      <th>7234</th>\n      <td>12993</td>\n      <td>Sono Mukou no Mukougawa</td>\n      <td>Music</td>\n      <td>Music</td>\n      <td>1</td>\n      <td>5.62</td>\n      <td>267</td>\n      <td>-0.603340</td>\n    </tr>\n    <tr>\n      <th>9422</th>\n      <td>3828</td>\n      <td>Maegami Tarou</td>\n      <td>Adventure</td>\n      <td>Special</td>\n      <td>1</td>\n      <td>6.08</td>\n      <td>105</td>\n      <td>-0.627121</td>\n    </tr>\n  </tbody>\n</table>\n</div>",
                "text/plain": "      anime_id  ...   similar\n6        11061  ...  0.976313\n2        28977  ...  0.972476\n9        15417  ...  0.925962\n83         877  ...  0.920726\n5        32935  ...  0.918261\n9993     29898  ... -0.588375\n6798      3025  ... -0.593775\n3125     31105  ... -0.602406\n7234     12993  ... -0.603340\n9422      3828  ... -0.627121\n\n[10 rows x 8 columns]"
              }
            ],
            "_view_module": "@jupyter-widgets/output",
            "_model_module_version": "1.0.0",
            "_view_count": null,
            "_view_module_version": "1.0.0",
            "layout": "IPY_MODEL_d62c6dfaf693484e874bed1cf891af3d",
            "_model_module": "@jupyter-widgets/output"
          }
        },
        "5472c7e93f3749a5ad46f54b3ea8f628": {
          "model_module": "@jupyter-widgets/controls",
          "model_name": "DescriptionStyleModel",
          "state": {
            "_view_name": "StyleView",
            "_model_name": "DescriptionStyleModel",
            "description_width": "",
            "_view_module": "@jupyter-widgets/base",
            "_model_module_version": "1.5.0",
            "_view_count": null,
            "_view_module_version": "1.2.0",
            "_model_module": "@jupyter-widgets/controls"
          }
        },
        "6cb4477b74f9417092afb455a9109b2c": {
          "model_module": "@jupyter-widgets/base",
          "model_name": "LayoutModel",
          "state": {
            "_view_name": "LayoutView",
            "grid_template_rows": null,
            "right": null,
            "justify_content": null,
            "_view_module": "@jupyter-widgets/base",
            "overflow": null,
            "_model_module_version": "1.2.0",
            "_view_count": null,
            "flex_flow": null,
            "width": null,
            "min_width": null,
            "border": null,
            "align_items": null,
            "bottom": null,
            "_model_module": "@jupyter-widgets/base",
            "top": null,
            "grid_column": null,
            "overflow_y": null,
            "overflow_x": null,
            "grid_auto_flow": null,
            "grid_area": null,
            "grid_template_columns": null,
            "flex": null,
            "_model_name": "LayoutModel",
            "justify_items": null,
            "grid_row": null,
            "max_height": null,
            "align_content": null,
            "visibility": null,
            "align_self": null,
            "height": null,
            "min_height": null,
            "padding": null,
            "grid_auto_rows": null,
            "grid_gap": null,
            "max_width": null,
            "order": null,
            "_view_module_version": "1.2.0",
            "grid_template_areas": null,
            "object_position": null,
            "object_fit": null,
            "grid_auto_columns": null,
            "margin": null,
            "display": null,
            "left": null
          }
        },
        "d62c6dfaf693484e874bed1cf891af3d": {
          "model_module": "@jupyter-widgets/base",
          "model_name": "LayoutModel",
          "state": {
            "_view_name": "LayoutView",
            "grid_template_rows": null,
            "right": null,
            "justify_content": null,
            "_view_module": "@jupyter-widgets/base",
            "overflow": null,
            "_model_module_version": "1.2.0",
            "_view_count": null,
            "flex_flow": null,
            "width": null,
            "min_width": null,
            "border": null,
            "align_items": null,
            "bottom": null,
            "_model_module": "@jupyter-widgets/base",
            "top": null,
            "grid_column": null,
            "overflow_y": null,
            "overflow_x": null,
            "grid_auto_flow": null,
            "grid_area": null,
            "grid_template_columns": null,
            "flex": null,
            "_model_name": "LayoutModel",
            "justify_items": null,
            "grid_row": null,
            "max_height": null,
            "align_content": null,
            "visibility": null,
            "align_self": null,
            "height": null,
            "min_height": null,
            "padding": null,
            "grid_auto_rows": null,
            "grid_gap": null,
            "max_width": null,
            "order": null,
            "_view_module_version": "1.2.0",
            "grid_template_areas": null,
            "object_position": null,
            "object_fit": null,
            "grid_auto_columns": null,
            "margin": null,
            "display": null,
            "left": null
          }
        }
      }
    }
  },
  "cells": [
    {
      "cell_type": "markdown",
      "metadata": {
        "id": "i8C_RN4MSLwd"
      },
      "source": [
        "# Find similar anime from embedding\n",
        "---"
      ]
    },
    {
      "cell_type": "code",
      "metadata": {
        "colab": {
          "base_uri": "https://localhost:8080/"
        },
        "id": "zGA7bqgvOnyP",
        "outputId": "229e80b1-5e0c-4732-dcec-37f26759bf5c"
      },
      "source": [
        "!pip install -q fastai==2.2.7"
      ],
      "execution_count": 1,
      "outputs": [
        {
          "output_type": "stream",
          "text": [
            "\u001b[K     |████████████████████████████████| 194kB 20.8MB/s \n",
            "\u001b[K     |████████████████████████████████| 776.8MB 20kB/s \n",
            "\u001b[K     |████████████████████████████████| 12.8MB 12.0MB/s \n",
            "\u001b[K     |████████████████████████████████| 61kB 8.5MB/s \n",
            "\u001b[31mERROR: torchtext 0.9.1 has requirement torch==1.8.1, but you'll have torch 1.7.1 which is incompatible.\u001b[0m\n",
            "\u001b[?25h"
          ],
          "name": "stdout"
        }
      ]
    },
    {
      "cell_type": "code",
      "metadata": {
        "id": "OxXpS0yOOxZn"
      },
      "source": [
        "!wget https://github.com/opalchonlapat/anime-recommend/raw/master/anime.zip # Download dataset\n",
        "!unzip anime.zip -d anime-recommedations-datbase\n",
        "!wget https://github.com/opalchonlapat/anime-recommend/raw/master/models/model.pth # Download model"
      ],
      "execution_count": null,
      "outputs": []
    },
    {
      "cell_type": "code",
      "metadata": {
        "id": "CqS-RaUQP_d9"
      },
      "source": [
        "from fastai.collab import *\n",
        "from fastai.tabular.all import *\n",
        "from fastai import *\n",
        "from ipywidgets import interact, interactive, fixed\n",
        "\n",
        "import numpy as np\n",
        "import pandas as pd\n",
        "import torch\n",
        "import ipywidgets as widgets"
      ],
      "execution_count": 5,
      "outputs": []
    },
    {
      "cell_type": "code",
      "metadata": {
        "colab": {
          "base_uri": "https://localhost:8080/",
          "height": 419
        },
        "id": "kL-s5Z67QGhT",
        "outputId": "530533e7-e0c8-4a38-f914-cad19abbdf62"
      },
      "source": [
        "rating_df = pd.read_csv(\"anime-recommedations-datbase/rating.csv\")\n",
        "anime_df = pd.read_csv(\"anime-recommedations-datbase/anime.csv\")\n",
        "\n",
        "rating_df = rating_df[rating_df.rating >= 0].reset_index(drop=True) # filter unrating anime\n",
        "\n",
        "cnt_df = rating_df.groupby(['user_id'])['anime_id'].count().reset_index(name='num_rate_anime')\n",
        "user_id_min = cnt_df.loc[cnt_df['num_rate_anime'] >= 10, 'user_id'].values\n",
        "rating_df_min = rating_df[rating_df['user_id'].isin(user_id_min)] # filter user rated anime >= 10\n",
        "rating_df_min"
      ],
      "execution_count": 6,
      "outputs": [
        {
          "output_type": "execute_result",
          "data": {
            "text/html": [
              "<div>\n",
              "<style scoped>\n",
              "    .dataframe tbody tr th:only-of-type {\n",
              "        vertical-align: middle;\n",
              "    }\n",
              "\n",
              "    .dataframe tbody tr th {\n",
              "        vertical-align: top;\n",
              "    }\n",
              "\n",
              "    .dataframe thead th {\n",
              "        text-align: right;\n",
              "    }\n",
              "</style>\n",
              "<table border=\"1\" class=\"dataframe\">\n",
              "  <thead>\n",
              "    <tr style=\"text-align: right;\">\n",
              "      <th></th>\n",
              "      <th>user_id</th>\n",
              "      <th>anime_id</th>\n",
              "      <th>rating</th>\n",
              "    </tr>\n",
              "  </thead>\n",
              "  <tbody>\n",
              "    <tr>\n",
              "      <th>5</th>\n",
              "      <td>3</td>\n",
              "      <td>20</td>\n",
              "      <td>8</td>\n",
              "    </tr>\n",
              "    <tr>\n",
              "      <th>6</th>\n",
              "      <td>3</td>\n",
              "      <td>154</td>\n",
              "      <td>6</td>\n",
              "    </tr>\n",
              "    <tr>\n",
              "      <th>7</th>\n",
              "      <td>3</td>\n",
              "      <td>170</td>\n",
              "      <td>9</td>\n",
              "    </tr>\n",
              "    <tr>\n",
              "      <th>8</th>\n",
              "      <td>3</td>\n",
              "      <td>199</td>\n",
              "      <td>10</td>\n",
              "    </tr>\n",
              "    <tr>\n",
              "      <th>9</th>\n",
              "      <td>3</td>\n",
              "      <td>225</td>\n",
              "      <td>9</td>\n",
              "    </tr>\n",
              "    <tr>\n",
              "      <th>...</th>\n",
              "      <td>...</td>\n",
              "      <td>...</td>\n",
              "      <td>...</td>\n",
              "    </tr>\n",
              "    <tr>\n",
              "      <th>6337234</th>\n",
              "      <td>73515</td>\n",
              "      <td>13659</td>\n",
              "      <td>8</td>\n",
              "    </tr>\n",
              "    <tr>\n",
              "      <th>6337235</th>\n",
              "      <td>73515</td>\n",
              "      <td>14345</td>\n",
              "      <td>7</td>\n",
              "    </tr>\n",
              "    <tr>\n",
              "      <th>6337236</th>\n",
              "      <td>73515</td>\n",
              "      <td>16512</td>\n",
              "      <td>7</td>\n",
              "    </tr>\n",
              "    <tr>\n",
              "      <th>6337237</th>\n",
              "      <td>73515</td>\n",
              "      <td>17187</td>\n",
              "      <td>9</td>\n",
              "    </tr>\n",
              "    <tr>\n",
              "      <th>6337238</th>\n",
              "      <td>73515</td>\n",
              "      <td>22145</td>\n",
              "      <td>10</td>\n",
              "    </tr>\n",
              "  </tbody>\n",
              "</table>\n",
              "<p>6278359 rows × 3 columns</p>\n",
              "</div>"
            ],
            "text/plain": [
              "         user_id  anime_id  rating\n",
              "5              3        20       8\n",
              "6              3       154       6\n",
              "7              3       170       9\n",
              "8              3       199      10\n",
              "9              3       225       9\n",
              "...          ...       ...     ...\n",
              "6337234    73515     13659       8\n",
              "6337235    73515     14345       7\n",
              "6337236    73515     16512       7\n",
              "6337237    73515     17187       9\n",
              "6337238    73515     22145      10\n",
              "\n",
              "[6278359 rows x 3 columns]"
            ]
          },
          "metadata": {
            "tags": []
          },
          "execution_count": 6
        }
      ]
    },
    {
      "cell_type": "code",
      "metadata": {
        "id": "X0F1DG4iQxU6"
      },
      "source": [
        "rating_grouped_df = rating_df_min.groupby(['user_id'])\n",
        "valid_df = rating_grouped_df.apply(lambda x: x.sample(frac=.2, random_state=1))\n",
        "valid_df.index = valid_df.index.droplevel(level=0)\n",
        "train_df = rating_df_min[~rating_df_min.index.isin(valid_df.index)]\n",
        "\n",
        "valid_df = valid_df.reset_index(drop=True)\n",
        "valid_grouped_df = valid_df.groupby(['user_id'])\n",
        "test_df = valid_grouped_df.apply(lambda x: x.sample(frac=.5, random_state=1))\n",
        "test_df.index = test_df.index.droplevel(level=0)\n",
        "valid_df = valid_df[~valid_df.index.isin(test_df.index)]"
      ],
      "execution_count": 7,
      "outputs": []
    },
    {
      "cell_type": "code",
      "metadata": {
        "colab": {
          "base_uri": "https://localhost:8080/",
          "height": 419
        },
        "id": "Oro3mh8nRezG",
        "outputId": "56f4af09-4eb3-4c3f-dd2f-714881574163"
      },
      "source": [
        "n_users, n_animes, n_ratings = list(train_df.nunique())\n",
        "\n",
        "train_df = train_df.copy()\n",
        "train_df['is_valid'] = 0\n",
        "\n",
        "valid_df = valid_df.copy()\n",
        "valid_df['is_valid'] = 1\n",
        "\n",
        "train_valid_df = pd.concat([train_df, valid_df], axis=0)\n",
        "train_valid_df"
      ],
      "execution_count": 9,
      "outputs": [
        {
          "output_type": "execute_result",
          "data": {
            "text/html": [
              "<div>\n",
              "<style scoped>\n",
              "    .dataframe tbody tr th:only-of-type {\n",
              "        vertical-align: middle;\n",
              "    }\n",
              "\n",
              "    .dataframe tbody tr th {\n",
              "        vertical-align: top;\n",
              "    }\n",
              "\n",
              "    .dataframe thead th {\n",
              "        text-align: right;\n",
              "    }\n",
              "</style>\n",
              "<table border=\"1\" class=\"dataframe\">\n",
              "  <thead>\n",
              "    <tr style=\"text-align: right;\">\n",
              "      <th></th>\n",
              "      <th>user_id</th>\n",
              "      <th>anime_id</th>\n",
              "      <th>rating</th>\n",
              "      <th>is_valid</th>\n",
              "    </tr>\n",
              "  </thead>\n",
              "  <tbody>\n",
              "    <tr>\n",
              "      <th>5</th>\n",
              "      <td>3</td>\n",
              "      <td>20</td>\n",
              "      <td>8</td>\n",
              "      <td>0</td>\n",
              "    </tr>\n",
              "    <tr>\n",
              "      <th>6</th>\n",
              "      <td>3</td>\n",
              "      <td>154</td>\n",
              "      <td>6</td>\n",
              "      <td>0</td>\n",
              "    </tr>\n",
              "    <tr>\n",
              "      <th>8</th>\n",
              "      <td>3</td>\n",
              "      <td>199</td>\n",
              "      <td>10</td>\n",
              "      <td>0</td>\n",
              "    </tr>\n",
              "    <tr>\n",
              "      <th>9</th>\n",
              "      <td>3</td>\n",
              "      <td>225</td>\n",
              "      <td>9</td>\n",
              "      <td>0</td>\n",
              "    </tr>\n",
              "    <tr>\n",
              "      <th>10</th>\n",
              "      <td>3</td>\n",
              "      <td>341</td>\n",
              "      <td>6</td>\n",
              "      <td>0</td>\n",
              "    </tr>\n",
              "    <tr>\n",
              "      <th>...</th>\n",
              "      <td>...</td>\n",
              "      <td>...</td>\n",
              "      <td>...</td>\n",
              "      <td>...</td>\n",
              "    </tr>\n",
              "    <tr>\n",
              "      <th>1255382</th>\n",
              "      <td>73515</td>\n",
              "      <td>2889</td>\n",
              "      <td>8</td>\n",
              "      <td>1</td>\n",
              "    </tr>\n",
              "    <tr>\n",
              "      <th>1255384</th>\n",
              "      <td>73515</td>\n",
              "      <td>935</td>\n",
              "      <td>9</td>\n",
              "      <td>1</td>\n",
              "    </tr>\n",
              "    <tr>\n",
              "      <th>1255393</th>\n",
              "      <td>73515</td>\n",
              "      <td>3653</td>\n",
              "      <td>8</td>\n",
              "      <td>1</td>\n",
              "    </tr>\n",
              "    <tr>\n",
              "      <th>1255394</th>\n",
              "      <td>73515</td>\n",
              "      <td>1361</td>\n",
              "      <td>6</td>\n",
              "      <td>1</td>\n",
              "    </tr>\n",
              "    <tr>\n",
              "      <th>1255397</th>\n",
              "      <td>73515</td>\n",
              "      <td>3784</td>\n",
              "      <td>9</td>\n",
              "      <td>1</td>\n",
              "    </tr>\n",
              "  </tbody>\n",
              "</table>\n",
              "<p>5649457 rows × 4 columns</p>\n",
              "</div>"
            ],
            "text/plain": [
              "         user_id  anime_id  rating  is_valid\n",
              "5              3        20       8         0\n",
              "6              3       154       6         0\n",
              "8              3       199      10         0\n",
              "9              3       225       9         0\n",
              "10             3       341       6         0\n",
              "...          ...       ...     ...       ...\n",
              "1255382    73515      2889       8         1\n",
              "1255384    73515       935       9         1\n",
              "1255393    73515      3653       8         1\n",
              "1255394    73515      1361       6         1\n",
              "1255397    73515      3784       9         1\n",
              "\n",
              "[5649457 rows x 4 columns]"
            ]
          },
          "metadata": {
            "tags": []
          },
          "execution_count": 9
        }
      ]
    },
    {
      "cell_type": "code",
      "metadata": {
        "id": "x07adfafRqyW"
      },
      "source": [
        "user_name   = 'user_id'\n",
        "item_name   = 'anime_id'\n",
        "rating_name = 'rating'\n",
        "cat_names = [user_name,item_name]\n",
        "splits = ColSplitter(col='is_valid')(train_valid_df)\n",
        "to = TabularCollab(train_valid_df, [Categorify], cat_names, y_names=[rating_name], y_block=TransformBlock(), splits=splits)\n",
        "dls = to.dataloaders(bs=256)"
      ],
      "execution_count": 10,
      "outputs": []
    },
    {
      "cell_type": "code",
      "metadata": {
        "colab": {
          "base_uri": "https://localhost:8080/"
        },
        "id": "ZmShOpx_RxQh",
        "outputId": "8d0b69ed-47f3-4385-ff9e-63911c699bc5"
      },
      "source": [
        "emb_szs = {'user_id': 50, 'anime_id': 50}\n",
        "szs = get_emb_sz(dls.train_ds, emb_szs)\n",
        "print(f\"Embedding size (user, item): {szs}, {emb_szs}\")\n",
        "learn = collab_learner(dls, # Dataloader ที่จะนำมา train model\n",
        "                       y_range=(0.5, 10.5), # Range ของค่าคะแนน rating\n",
        "                       use_nn=True, # ใช้ Neural Network\n",
        "                       emb_szs=emb_szs, # กำหนดขนาดของ Embedding\n",
        "                       metrics=[mse, # Metrics ที่ใช้วัดผล\n",
        "                                mae]).to_fp16()"
      ],
      "execution_count": 12,
      "outputs": [
        {
          "output_type": "stream",
          "text": [
            "Embedding size (user, item): [(55119, 50), (9726, 50)], {'user_id': 50, 'anime_id': 50}\n"
          ],
          "name": "stdout"
        },
        {
          "output_type": "stream",
          "text": [
            "/usr/local/lib/python3.7/dist-packages/torch/cuda/amp/autocast_mode.py:114: UserWarning: torch.cuda.amp.autocast only affects CUDA ops, but CUDA is not available.  Disabling.\n",
            "  warnings.warn(\"torch.cuda.amp.autocast only affects CUDA ops, but CUDA is not available.  Disabling.\")\n"
          ],
          "name": "stderr"
        }
      ]
    },
    {
      "cell_type": "code",
      "metadata": {
        "colab": {
          "base_uri": "https://localhost:8080/"
        },
        "id": "kaigNeTAR16a",
        "outputId": "490829ee-1821-493b-8e67-2afc207264e3"
      },
      "source": [
        "# load model\n",
        "learn.load('/content/model')"
      ],
      "execution_count": 13,
      "outputs": [
        {
          "output_type": "stream",
          "text": [
            "/usr/local/lib/python3.7/dist-packages/fastai/learner.py:56: UserWarning: Saved filed doesn't contain an optimizer state.\n",
            "  elif with_opt: warn(\"Saved filed doesn't contain an optimizer state.\")\n"
          ],
          "name": "stderr"
        },
        {
          "output_type": "execute_result",
          "data": {
            "text/plain": [
              "<fastai.learner.Learner at 0x7fdd7a83c7d0>"
            ]
          },
          "metadata": {
            "tags": []
          },
          "execution_count": 13
        }
      ]
    },
    {
      "cell_type": "code",
      "metadata": {
        "colab": {
          "base_uri": "https://localhost:8080/"
        },
        "id": "pxI1DsMER424",
        "outputId": "59e64c28-cbbf-4eb1-9442-2ed67cf0cbfe"
      },
      "source": [
        "learn.model"
      ],
      "execution_count": 14,
      "outputs": [
        {
          "output_type": "execute_result",
          "data": {
            "text/plain": [
              "EmbeddingNN(\n",
              "  (embeds): ModuleList(\n",
              "    (0): Embedding(55119, 50)\n",
              "    (1): Embedding(9726, 50)\n",
              "  )\n",
              "  (emb_drop): Dropout(p=0.0, inplace=False)\n",
              "  (bn_cont): BatchNorm1d(0, eps=1e-05, momentum=0.1, affine=True, track_running_stats=True)\n",
              "  (layers): Sequential(\n",
              "    (0): LinBnDrop(\n",
              "      (0): BatchNorm1d(100, eps=1e-05, momentum=0.1, affine=True, track_running_stats=True)\n",
              "      (1): Linear(in_features=100, out_features=50, bias=False)\n",
              "      (2): ReLU(inplace=True)\n",
              "    )\n",
              "    (1): LinBnDrop(\n",
              "      (0): Linear(in_features=50, out_features=1, bias=True)\n",
              "    )\n",
              "    (2): SigmoidRange(low=0.5, high=10.5)\n",
              "  )\n",
              ")"
            ]
          },
          "metadata": {
            "tags": []
          },
          "execution_count": 14
        }
      ]
    },
    {
      "cell_type": "code",
      "metadata": {
        "id": "18zIEbB3R7OW"
      },
      "source": [
        "user_embeds = learn.model.embeds[0].weight\n",
        "item_embeds = learn.model.embeds[1].weight\n",
        "user_ids = learn.dls.train_ds.classes['user_id']\n",
        "item_ids = learn.dls.train_ds.classes['anime_id']"
      ],
      "execution_count": 15,
      "outputs": []
    },
    {
      "cell_type": "code",
      "metadata": {
        "id": "MWMkwlXaR_aw"
      },
      "source": [
        "def find_similar_anime(anime_name):\n",
        "    print(f\"Anime name: {anime_name}\")\n",
        "    ani_id = anime_df.loc[anime_df['name'] == anime_name].iat[0, 0]\n",
        "    arr_idx = item_ids.o2i[ani_id]\n",
        "    similar = nn.CosineSimilarity(dim=1)(item_embeds, item_embeds[arr_idx][None])\n",
        "    sim_arr_idx = similar.argsort(descending=True)\n",
        "    most_sim_idx = sim_arr_idx[1:6]\n",
        "    least_sim_idx = sim_arr_idx[-5:]\n",
        "    sim_ani_id = np.concatenate((item_ids[most_sim_idx], item_ids[least_sim_idx]))\n",
        "\n",
        "    sim_df = pd.DataFrame()\n",
        "    for id in sim_ani_id:\n",
        "        sim_df = sim_df.append(anime_df[anime_df['anime_id'] == id])\n",
        "    sim_df['similar'] = np.concatenate((similar[most_sim_idx].cpu().detach().numpy(), similar[least_sim_idx].cpu().detach().numpy()))\n",
        "    return sim_df"
      ],
      "execution_count": 16,
      "outputs": []
    },
    {
      "cell_type": "code",
      "metadata": {
        "id": "NN5kv1vDSBJI"
      },
      "source": [
        "anime_cnt = rating_df.groupby(['anime_id'])['user_id'].count().reset_index(name='cnt')\n",
        "anime_id_cnt = anime_cnt.sort_values(['cnt'], ascending=False).loc[:50, 'anime_id'].values"
      ],
      "execution_count": 17,
      "outputs": []
    },
    {
      "cell_type": "code",
      "metadata": {
        "colab": {
          "base_uri": "https://localhost:8080/",
          "height": 544,
          "referenced_widgets": [
            "9b5ca06452f743adade846f88a92d73b",
            "8fe1834e2b1b4278afcee91d93eb5ae2",
            "b4b7ee22173a4ed9a085e6f72b617092",
            "be83ec4885a347c29b56934d4733fa7f",
            "5472c7e93f3749a5ad46f54b3ea8f628",
            "6cb4477b74f9417092afb455a9109b2c",
            "d62c6dfaf693484e874bed1cf891af3d"
          ]
        },
        "id": "8BOoNQn-SC2Q",
        "outputId": "048a1ac3-c83d-42bb-aca4-888abd179b17"
      },
      "source": [
        "names_arr = anime_df.loc[anime_df['anime_id'].isin(anime_id_cnt), 'name'].unique()\n",
        "interact(find_similar_anime, anime_name=names_arr)"
      ],
      "execution_count": 18,
      "outputs": [
        {
          "output_type": "display_data",
          "data": {
            "application/vnd.jupyter.widget-view+json": {
              "model_id": "9b5ca06452f743adade846f88a92d73b",
              "version_minor": 0,
              "version_major": 2
            },
            "text/plain": [
              "interactive(children=(Dropdown(description='anime_name', options=('Fullmetal Alchemist: Brotherhood', 'Steins;…"
            ]
          },
          "metadata": {
            "tags": []
          }
        },
        {
          "output_type": "execute_result",
          "data": {
            "text/plain": [
              "<function __main__.find_similar_anime>"
            ]
          },
          "metadata": {
            "tags": []
          },
          "execution_count": 18
        }
      ]
    },
    {
      "cell_type": "code",
      "metadata": {
        "id": "bBHzlTi6SEpH"
      },
      "source": [
        ""
      ],
      "execution_count": null,
      "outputs": []
    }
  ]
}